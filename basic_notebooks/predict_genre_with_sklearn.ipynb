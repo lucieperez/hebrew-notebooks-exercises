{
 "cells": [
  {
   "cell_type": "code",
   "execution_count": null,
   "id": "e6b7879e",
   "metadata": {},
   "outputs": [],
   "source": [
    "from tf.app import use\n",
    "A = use(\"etcbc/bhsa\", hoist=globals())"
   ]
  },
  {
   "cell_type": "code",
   "execution_count": null,
   "id": "925b5e61",
   "metadata": {},
   "outputs": [],
   "source": [
    "from pprint import pprint\n",
    "import pandas as pd\n",
    "from sklearn.ensemble import RandomForestClassifier"
   ]
  },
  {
   "cell_type": "code",
   "execution_count": null,
   "id": "eb1d681a",
   "metadata": {},
   "outputs": [],
   "source": [
    "studied_books = [\"Genesis\", \"Esther\", \"Joshua\", \"Psalms\", \"Job\", \"Jonah\", \"Song_of_songs\"]"
   ]
  },
  {
   "cell_type": "code",
   "execution_count": null,
   "id": "7f7c9e1f",
   "metadata": {},
   "outputs": [],
   "source": [
    "{T.sectionFromNode(book)[0] for book in F.otype.s(\"book\")}"
   ]
  },
  {
   "cell_type": "code",
   "execution_count": null,
   "id": "2e726369",
   "metadata": {},
   "outputs": [],
   "source": [
    "{F.vt.v(word) for word in F.otype.s(\"word\")}"
   ]
  },
  {
   "cell_type": "code",
   "execution_count": null,
   "id": "18cc889f",
   "metadata": {},
   "outputs": [],
   "source": [
    "verbal_tenses = ['impf', 'impv', 'infa', 'infc', 'perf', 'ptca', 'ptcp', 'wayq']"
   ]
  },
  {
   "cell_type": "code",
   "execution_count": null,
   "id": "1c302776",
   "metadata": {},
   "outputs": [],
   "source": [
    "column_vt = ['NA', 'impf', 'impv', 'infa', 'infc', 'perf', 'ptca', 'ptcp', 'wayq']"
   ]
  },
  {
   "cell_type": "code",
   "execution_count": null,
   "id": "c0bed4c0",
   "metadata": {},
   "outputs": [],
   "source": [
    "clause_dict = {}\n",
    "\n",
    "def get_genre(book_name):\n",
    "    book_genre = {\n",
    "        \"Genesis\": \"prose\", \n",
    "        \"Esther\": \"prose\", \n",
    "        \"Joshua\": \"prose\", \n",
    "        \"Psalms\": \"poetry\", \n",
    "        \"Job\": \"poetry\", \n",
    "        \"Jonah\": \"indef\", \n",
    "        \"Song_of_songs\": \"indef\",}\n",
    "    return book_genre[book_name]\n",
    "\n",
    "def get_clause_length(clause_id):\n",
    "    words = L.d(clause_id, \"word\")\n",
    "    return len(words)  \n",
    "\n",
    "def get_verbal_tense(clause_id):\n",
    "    vt = \"NA\"\n",
    "    words = L.d(clause_id, \"word\")\n",
    "    for word in words:\n",
    "        if F.vt.v(word) in verbal_tenses:\n",
    "            vt = F.vt.v(word)\n",
    "    return vt      \n",
    "\n",
    "def get_average_phrase_length(clause_id):\n",
    "    phrase_lengths = []\n",
    "    phrases = L.d(clause_id, \"phrase\")\n",
    "    for phrase_id in phrases:\n",
    "        words = L.d(phrase_id, \"word\")\n",
    "        phrase_lengths.append(len(words))\n",
    "    average_phrase_length = sum(phrase_lengths) / len(phrase_lengths)\n",
    "    return average_phrase_length\n",
    "\n",
    "for clause in F.otype.s(\"clause\"):\n",
    "    book, chapter, verse = T.sectionFromNode(clause)\n",
    "    if book in studied_books: \n",
    "        clause_length = get_clause_length(clause)\n",
    "        av_len_phr = get_average_phrase_length(clause)\n",
    "        genre = get_genre(book)\n",
    "        verbal_tense = get_verbal_tense(clause)\n",
    "        vt_values = [0 if verbal_tense != tense else 1 for tense in column_vt]\n",
    "        clause_info = [clause, book, chapter, verse, clause_length, av_len_phr, genre] + vt_values\n",
    "        clause_dict[clause] = clause_info\n",
    "   "
   ]
  },
  {
   "cell_type": "code",
   "execution_count": null,
   "id": "c5706b82",
   "metadata": {},
   "outputs": [],
   "source": [
    "clause_df = pd.DataFrame(clause_dict).T"
   ]
  },
  {
   "cell_type": "code",
   "execution_count": null,
   "id": "89fec7d3",
   "metadata": {},
   "outputs": [],
   "source": [
    "clause_df.columns = [\"clause\", \"book\", \"chapter\", \"verse\", \"clause_length\", \"av_len_phr\", \"genre\", 'NA', 'impf', 'impv', 'infa', 'infc', 'perf', 'ptca', 'ptcp', 'wayq']"
   ]
  },
  {
   "cell_type": "code",
   "execution_count": null,
   "id": "bfd12e11",
   "metadata": {},
   "outputs": [],
   "source": [
    "clause_df.head()"
   ]
  },
  {
   "cell_type": "code",
   "execution_count": null,
   "id": "e71225a3",
   "metadata": {},
   "outputs": [],
   "source": [
    "set(clause_df.genre)"
   ]
  },
  {
   "cell_type": "code",
   "execution_count": null,
   "id": "67696941",
   "metadata": {},
   "outputs": [],
   "source": [
    "indef_books = clause_df[clause_df.genre == \"indef\"]"
   ]
  },
  {
   "cell_type": "code",
   "execution_count": null,
   "id": "e3fca1e2",
   "metadata": {},
   "outputs": [],
   "source": [
    "indef_books.head()"
   ]
  },
  {
   "cell_type": "code",
   "execution_count": null,
   "id": "a7cae811",
   "metadata": {
    "scrolled": true
   },
   "outputs": [],
   "source": [
    "training_set = clause_df[clause_df.genre != \"indef\"]\n",
    "\n",
    "training_set_2 = training_set.drop([\"clause\", \"book\", \"chapter\", \"verse\"], axis = 1)\n",
    "\n",
    "y = training_set_2.pop(\"genre\")\n",
    "\n",
    "print(y)"
   ]
  },
  {
   "cell_type": "code",
   "execution_count": null,
   "id": "febd0ee1",
   "metadata": {},
   "outputs": [],
   "source": [
    "training_set_2"
   ]
  },
  {
   "cell_type": "code",
   "execution_count": null,
   "id": "de072265",
   "metadata": {},
   "outputs": [],
   "source": [
    "clf = RandomForestClassifier(max_depth=4, random_state=0)\n",
    "clf.fit(training_set_2, y)"
   ]
  },
  {
   "cell_type": "code",
   "execution_count": null,
   "id": "191bcbdc",
   "metadata": {
    "scrolled": true
   },
   "outputs": [],
   "source": [
    "importances = clf.feature_importances_\n",
    "print(importances)"
   ]
  },
  {
   "cell_type": "code",
   "execution_count": null,
   "id": "88fd3848",
   "metadata": {},
   "outputs": [],
   "source": []
  },
  {
   "cell_type": "code",
   "execution_count": null,
   "id": "de8aa01c",
   "metadata": {},
   "outputs": [],
   "source": [
    "indef_books_2 = indef_books.drop([\"clause\", \"book\", \"chapter\", \"verse\", \"genre\"], axis = 1)"
   ]
  },
  {
   "cell_type": "code",
   "execution_count": null,
   "id": "efe2c949",
   "metadata": {},
   "outputs": [],
   "source": [
    "indef_books_2"
   ]
  },
  {
   "cell_type": "code",
   "execution_count": null,
   "id": "8cf4f3fd",
   "metadata": {},
   "outputs": [],
   "source": [
    "prediction_genre = clf.predict(indef_books_2)"
   ]
  },
  {
   "cell_type": "code",
   "execution_count": null,
   "id": "3ef615f9",
   "metadata": {},
   "outputs": [],
   "source": [
    "book_list = list(indef_books.book)"
   ]
  },
  {
   "cell_type": "code",
   "execution_count": null,
   "id": "f95e6c57",
   "metadata": {},
   "outputs": [],
   "source": [
    "jonah_poetry = 0\n",
    "jonah_prose = 0\n",
    "song_poetry = 0\n",
    "song_prose = 0\n",
    "\n",
    "for pred, book in zip(prediction_genre, book_list):\n",
    "    if pred == \"poetry\" and book == \"Jonah\":\n",
    "        jonah_poetry += 1\n",
    "    elif pred == \"poetry\" and book == \"Song_of_songs\":\n",
    "        song_poetry += 1\n",
    "    elif pred == \"prose\" and book == \"Jonah\":\n",
    "        jonah_prose += 1\n",
    "    elif pred == \"prose\" and book == \"Song_of_songs\":\n",
    "        song_prose += 1"
   ]
  },
  {
   "cell_type": "code",
   "execution_count": null,
   "id": "dddeb2f8",
   "metadata": {},
   "outputs": [],
   "source": [
    "print(jonah_poetry, jonah_prose, song_poetry, song_prose)"
   ]
  }
 ],
 "metadata": {
  "kernelspec": {
   "display_name": "Python 3 (ipykernel)",
   "language": "python",
   "name": "python3"
  },
  "language_info": {
   "codemirror_mode": {
    "name": "ipython",
    "version": 3
   },
   "file_extension": ".py",
   "mimetype": "text/x-python",
   "name": "python",
   "nbconvert_exporter": "python",
   "pygments_lexer": "ipython3",
   "version": "3.9.16"
  }
 },
 "nbformat": 4,
 "nbformat_minor": 5
}
