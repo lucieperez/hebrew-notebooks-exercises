{
 "cells": [
  {
   "cell_type": "code",
   "execution_count": null,
   "id": "b2b13293",
   "metadata": {},
   "outputs": [],
   "source": [
    "from tfob import TFOb, BHSA, DSS"
   ]
  },
  {
   "cell_type": "code",
   "execution_count": null,
   "id": "37a60ceb",
   "metadata": {},
   "outputs": [],
   "source": [
    "import pandas as pd"
   ]
  },
  {
   "cell_type": "code",
   "execution_count": null,
   "id": "827d81b9",
   "metadata": {},
   "outputs": [],
   "source": [
    "verbs = TFOb.all(\"word\", DSS).filter(lex=\"BW>[\")\n",
    "verbs"
   ]
  },
  {
   "cell_type": "code",
   "execution_count": null,
   "id": "54e3e8fd",
   "metadata": {},
   "outputs": [],
   "source": [
    "motion_verbs = [\"BW>[\", \"HLK[\", \"CWB[\", \"<LH[\", \"CLX[\", \"JY>[\", \n",
    "                \"JRD[\", \"<BR[\", \"NGC[\", \"QRB[\", \"NWS[\", \"CLK[\", \n",
    "                \">SP[\", \"NPL[\", \"QBY[\", \"LQX[\", \"SWR[\", \"GLH[\",\n",
    "                \"QHL[\"]"
   ]
  },
  {
   "cell_type": "code",
   "execution_count": null,
   "id": "b21e6643",
   "metadata": {},
   "outputs": [],
   "source": [
    "verbs = TFOb.all(\"word\", BHSA).filter_in(lex=motion_verbs)\n",
    "pd.DataFrame({\"verb_id\": verbs.ids, \"lex\": verbs.lex, \"book\": verbs.book, \"chapter\": verbs.chapter, \"verse\": verbs.verse})"
   ]
  },
  {
   "cell_type": "code",
   "execution_count": null,
   "id": "b6a47195",
   "metadata": {},
   "outputs": [],
   "source": [
    "verbs = TFOb.all(\"word\", DSS).filter_in(lex=motion_verbs)\n",
    "pd.DataFrame({\"verb_id\": verbs.ids, \"lex\": verbs.lex, \"book\": verbs.book, \"chapter\": verbs.chapter, \"verse\": verbs.verse})"
   ]
  },
  {
   "cell_type": "code",
   "execution_count": null,
   "id": "6509f959",
   "metadata": {},
   "outputs": [],
   "source": [
    "# for name in dir(DSS.F):\n",
    "#     if \"__\" in name:\n",
    "#         continue\n",
    "#     print(name, getattr(BHSA.F, name).v(verbs.ids[0]))"
   ]
  }
 ],
 "metadata": {
  "kernelspec": {
   "display_name": "Python 3 (ipykernel)",
   "language": "python",
   "name": "python3"
  },
  "language_info": {
   "codemirror_mode": {
    "name": "ipython",
    "version": 3
   },
   "file_extension": ".py",
   "mimetype": "text/x-python",
   "name": "python",
   "nbconvert_exporter": "python",
   "pygments_lexer": "ipython3",
   "version": "3.9.16"
  }
 },
 "nbformat": 4,
 "nbformat_minor": 5
}
