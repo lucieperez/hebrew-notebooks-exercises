{
 "cells": [
  {
   "cell_type": "code",
   "execution_count": null,
   "id": "7d62cd6a",
   "metadata": {
    "ExecuteTime": {
     "end_time": "2023-04-09T14:53:01.117637Z",
     "start_time": "2023-04-09T14:53:01.104712Z"
    }
   },
   "outputs": [],
   "source": [
    "from munch import Munch\n",
    "from tf.app import use"
   ]
  },
  {
   "cell_type": "code",
   "execution_count": null,
   "id": "8d882c6f",
   "metadata": {
    "ExecuteTime": {
     "end_time": "2023-04-09T14:53:17.003544Z",
     "start_time": "2023-04-09T14:53:01.119613Z"
    }
   },
   "outputs": [],
   "source": [
    "B = use(\"etcbc/dss\", hoist=globals())\n",
    "DSS = Munch({\"F\": F, \"L\": L, \"T\": T, \"name\": \"DSS\"})\n",
    "\n",
    "A = use(\"etcbc/bhsa\", hoist=globals())\n",
    "BHSA = Munch({\"F\": F, \"L\": L, \"T\": T, \"name\": \"BHSA\"})"
   ]
  },
  {
   "cell_type": "code",
   "execution_count": null,
   "id": "d6170b31",
   "metadata": {
    "ExecuteTime": {
     "end_time": "2023-04-09T14:53:17.029345Z",
     "start_time": "2023-04-09T14:53:17.005362Z"
    }
   },
   "outputs": [],
   "source": [
    "del F, L, T"
   ]
  },
  {
   "cell_type": "code",
   "execution_count": null,
   "id": "3a487161",
   "metadata": {
    "ExecuteTime": {
     "end_time": "2023-04-09T14:53:17.043490Z",
     "start_time": "2023-04-09T14:53:17.031644Z"
    }
   },
   "outputs": [],
   "source": [
    "%load_ext autoreload\n",
    "%autoreload 2"
   ]
  },
  {
   "cell_type": "code",
   "execution_count": null,
   "id": "768a6ef1",
   "metadata": {
    "ExecuteTime": {
     "end_time": "2023-04-09T14:53:17.054742Z",
     "start_time": "2023-04-09T14:53:17.044906Z"
    }
   },
   "outputs": [],
   "source": [
    "import os\n",
    "import collections\n",
    "from itertools import chain\n",
    "from collections import defaultdict"
   ]
  },
  {
   "cell_type": "code",
   "execution_count": null,
   "id": "ce55e127",
   "metadata": {
    "ExecuteTime": {
     "end_time": "2023-04-09T14:53:22.027782Z",
     "start_time": "2023-04-09T14:53:17.056594Z"
    }
   },
   "outputs": [],
   "source": [
    "dss_sections = {}\n",
    "for word in DSS.F.otype.s(\"word\"):    \n",
    "    scroll = DSS.T.scrollName(DSS.L.u(word, \"scroll\")[0])\n",
    "    book = DSS.F.book_etcbc.v(word)    \n",
    "    chapter = DSS.F.chapter.v(word)\n",
    "    verse = DSS.F.verse.v(word)    \n",
    "    if None in (scroll, book, chapter, verse):\n",
    "        continue\n",
    "    section = (book, chapter, verse)\n",
    "    dss_sections.setdefault(section, {}).setdefault(scroll, []).append(word)"
   ]
  },
  {
   "cell_type": "code",
   "execution_count": null,
   "id": "87303cad",
   "metadata": {
    "ExecuteTime": {
     "end_time": "2023-04-09T15:28:05.998164Z",
     "start_time": "2023-04-09T15:28:05.978052Z"
    }
   },
   "outputs": [],
   "source": [
    "def remove_duplicates(iterable):\n",
    "    return list(dict.fromkeys(iterable))\n",
    "\n",
    "\n",
    "class TFOb:\n",
    "    def __init__(self, ids, source):\n",
    "        if type(ids) is int:\n",
    "            ids = [ids]\n",
    "        self.ids = remove_duplicates(ids)\n",
    "        self.source = source\n",
    "        self._levels = [\"to_\" + otype + \"s\" for otype in source.F.otype.all]\n",
    "        \n",
    "    @classmethod\n",
    "    def section(self, section, source, scroll=None):\n",
    "        if source.name == \"BHSA\":\n",
    "            return TFOb(source.T.nodeFromSection(section), source)\n",
    "        \n",
    "        section = (section[0], str(section[1]), str(section[2]))\n",
    "        dss_section = dss_sections[section]\n",
    "        if scroll is None:\n",
    "            scroll = list(dss_section.keys())[0]\n",
    "        return TFOb(dss_section[scroll], source)\n",
    "        \n",
    "    def __getattr__(self, attr):\n",
    "        if attr in self._levels:\n",
    "            level = \"to_\" + self.level + \"s\"\n",
    "            if self.level == \"none\":\n",
    "                return self\n",
    "            level_index = self._levels.index(level)\n",
    "            new_level_index = self._levels.index(attr)\n",
    "            if new_level_index > level_index:\n",
    "                return self.down(attr[3:-1])\n",
    "            elif new_level_index < level_index:\n",
    "                return self.up(attr[3:-1])\n",
    "            else:\n",
    "                return self\n",
    "            \n",
    "        if self.source.name == \"DSS\" and attr == \"lex\":\n",
    "            attr = \"lex_etcbc\"\n",
    "            \n",
    "        feature = getattr(self.source.F, attr)\n",
    "        return [getattr(self.source.F, attr).v(id_) for id_ in self.ids]\n",
    "    \n",
    "    def copy(self):\n",
    "        return TFOb(self.ids.copy(), source)\n",
    "\n",
    "    def up(self, otype=None):\n",
    "        if self.level in (otype, \"none\"):\n",
    "            return self\n",
    "        return TFOb(\n",
    "            chain(*[self.source.L.u(id_, otype) for id_ in self.ids]),\n",
    "            source=self.source,\n",
    "        )\n",
    "\n",
    "    def down(self, otype=None):\n",
    "        if self.level in (otype, \"none\"):\n",
    "            return self\n",
    "        return TFOb(\n",
    "            chain(*[self.source.L.d(id_, otype) for id_ in self.ids]),\n",
    "            source=self.source,\n",
    "        )\n",
    "\n",
    "    def filter(self, **kwargs):\n",
    "        ids = []\n",
    "        for id_ in self.ids:\n",
    "            for key, value in kwargs.items():\n",
    "                if key == \"lex\" and self.source.name == \"DSS\":\n",
    "                    key = \"lex_etcbc\"\n",
    "                if getattr(self.source.F, key).v(id_) != value:\n",
    "                    break\n",
    "            else:\n",
    "                ids.append(id_)\n",
    "        return TFOb(ids, source=self.source)\n",
    "\n",
    "    def first(self, **kwargs):\n",
    "        ids = []\n",
    "        for id_ in self.ids:\n",
    "            for key, value in kwargs.items():\n",
    "                if key == \"lex\" and self.source.name == \"DSS\":\n",
    "                    key = \"lex_etcbc\"\n",
    "                if getattr(self.source.F, key).v(id_) != value:\n",
    "                    break\n",
    "            else:\n",
    "                return TFOb(id_, source=self.source)\n",
    "        return TFOb([], source=self.source)\n",
    "            \n",
    "    def __getitem__(self, i):\n",
    "        return TFOb(self.ids[i], source=self.source)\n",
    "    \n",
    "    def __len__(self):\n",
    "        return len(self.ids)\n",
    "\n",
    "    @property\n",
    "    def text(self):\n",
    "        return self.source.T.text(self.ids)\n",
    "    \n",
    "    def __str__(self):\n",
    "        if self.level not in (\"word\", \"none\"):\n",
    "            return str(self.down(\"word\"))\n",
    "        return \" \".join([g_cons for g_cons in self.g_cons if g_cons])\n",
    "    \n",
    "    def __dir__(self):\n",
    "        return list(self.__dict__.keys()) + dir(self.source.F) + self._levels\n",
    "\n",
    "    @property\n",
    "    def level(self):\n",
    "        if len(self.ids) > 0:\n",
    "            return self.otype[0]\n",
    "        return \"none\"\n",
    "\n",
    "    def __repr__(self):\n",
    "        level = self.level\n",
    "        if level != \"none\":\n",
    "            level += \"s\"\n",
    "        return f'<{self.level}_{len(self)} \"{str(self)}\">'"
   ]
  },
  {
   "cell_type": "code",
   "execution_count": null,
   "id": "a065f6ed",
   "metadata": {
    "ExecuteTime": {
     "end_time": "2023-04-09T15:21:23.811733Z",
     "start_time": "2023-04-09T15:21:23.795135Z"
    }
   },
   "outputs": [],
   "source": [
    "TFOb.section([\"Isaiah\", 6, 6], BHSA).to_words"
   ]
  },
  {
   "cell_type": "code",
   "execution_count": null,
   "id": "6bddb212",
   "metadata": {
    "ExecuteTime": {
     "end_time": "2023-04-09T15:21:30.829445Z",
     "start_time": "2023-04-09T15:21:30.818200Z"
    }
   },
   "outputs": [],
   "source": [
    "TFOb.section([\"Isaiah\", 6, 6], BHSA).to_words.g_cons"
   ]
  },
  {
   "cell_type": "code",
   "execution_count": null,
   "id": "1a4df60d",
   "metadata": {
    "ExecuteTime": {
     "end_time": "2023-04-09T15:21:36.389845Z",
     "start_time": "2023-04-09T15:21:36.378243Z"
    }
   },
   "outputs": [],
   "source": [
    "TFOb.section([\"Genesis\", 1, 1], BHSA).to_words.first(lex=\"BR>[\").to_clauses.to_phrases.first(function=\"Subj\")"
   ]
  },
  {
   "cell_type": "code",
   "execution_count": null,
   "id": "dd34aad4",
   "metadata": {
    "ExecuteTime": {
     "end_time": "2023-04-09T15:28:11.060145Z",
     "start_time": "2023-04-09T15:28:11.042457Z"
    }
   },
   "outputs": [],
   "source": [
    "verb = TFOb.section([\"Genesis\", 1, 1], BHSA).to_words.first(lex=\"BR>[\")\n",
    "verb.to_clauses.to_phrases.first(function=\"Subj\")"
   ]
  },
  {
   "cell_type": "code",
   "execution_count": null,
   "id": "6d57dc7d",
   "metadata": {
    "ExecuteTime": {
     "end_time": "2023-04-09T15:28:25.249552Z",
     "start_time": "2023-04-09T15:28:25.233390Z"
    }
   },
   "outputs": [],
   "source": [
    "verb.to_words"
   ]
  },
  {
   "cell_type": "code",
   "execution_count": null,
   "id": "faa6953a",
   "metadata": {
    "ExecuteTime": {
     "start_time": "2023-04-09T14:53:01.124Z"
    }
   },
   "outputs": [],
   "source": [
    "verb = TFOb.section([\"Genesis\", 1, 1], DSS).down(\"word\").first(lex=\"BR>[\")\n",
    "verb.up(\"clause\").down(\"phrase\").first(function=\"Subj\")"
   ]
  },
  {
   "cell_type": "code",
   "execution_count": null,
   "id": "b0ad3781",
   "metadata": {
    "ExecuteTime": {
     "start_time": "2023-04-09T14:53:01.125Z"
    }
   },
   "outputs": [],
   "source": [
    "TFOb.section([\"Genesis\", 1, 1], BHSA).down(\"word\").first(lex=\"BR>[\")"
   ]
  },
  {
   "cell_type": "code",
   "execution_count": null,
   "id": "16879326",
   "metadata": {
    "ExecuteTime": {
     "start_time": "2023-04-09T14:53:01.126Z"
    }
   },
   "outputs": [],
   "source": [
    "TFOb.section([\"Genesis\", 1, 1], BHSA).down(\"word\").lex"
   ]
  },
  {
   "cell_type": "code",
   "execution_count": null,
   "id": "86d04ff9",
   "metadata": {
    "ExecuteTime": {
     "start_time": "2023-04-09T14:53:01.127Z"
    }
   },
   "outputs": [],
   "source": [
    "TFOb.section([\"Isaiah\", 20, 6], DSS)"
   ]
  },
  {
   "cell_type": "code",
   "execution_count": null,
   "id": "ac25d0c0",
   "metadata": {
    "ExecuteTime": {
     "start_time": "2023-04-09T14:53:01.127Z"
    }
   },
   "outputs": [],
   "source": [
    "TFOb.section([\"Isaiah\", 6, 6], BHSA)"
   ]
  },
  {
   "cell_type": "code",
   "execution_count": null,
   "id": "79fd1dba",
   "metadata": {
    "ExecuteTime": {
     "start_time": "2023-04-09T14:53:01.128Z"
    }
   },
   "outputs": [],
   "source": [
    "TFOb.section([\"Isaiah\", 6, 6], BHSA).down(\"word\").lex"
   ]
  },
  {
   "cell_type": "code",
   "execution_count": null,
   "id": "d2aa8311",
   "metadata": {
    "ExecuteTime": {
     "start_time": "2023-04-09T14:53:01.129Z"
    }
   },
   "outputs": [],
   "source": [
    "word = TFOb(1033, DSS)\n",
    "word"
   ]
  },
  {
   "cell_type": "code",
   "execution_count": null,
   "id": "0b8cc763",
   "metadata": {
    "ExecuteTime": {
     "start_time": "2023-04-09T14:53:01.130Z"
    }
   },
   "outputs": [],
   "source": [
    "TFOb(1, BHSA).up(\"clause\").down(\"phrase\").first(function=\"Subj\")"
   ]
  },
  {
   "cell_type": "code",
   "execution_count": null,
   "id": "72f8c60b",
   "metadata": {
    "ExecuteTime": {
     "start_time": "2023-04-09T14:53:01.131Z"
    }
   },
   "outputs": [],
   "source": [
    "word.up(\"clause\").down(\"phrase\")"
   ]
  },
  {
   "cell_type": "code",
   "execution_count": null,
   "id": "94c2f0c3",
   "metadata": {
    "ExecuteTime": {
     "start_time": "2023-04-09T14:53:01.132Z"
    }
   },
   "outputs": [],
   "source": [
    "word.up(\"clause\").down(\"phrase\")[0]"
   ]
  },
  {
   "cell_type": "code",
   "execution_count": null,
   "id": "9970d376",
   "metadata": {
    "ExecuteTime": {
     "start_time": "2023-04-09T14:53:01.132Z"
    }
   },
   "outputs": [],
   "source": [
    "clause.down(\"phrase\").filter(function=\"toto\")"
   ]
  },
  {
   "cell_type": "code",
   "execution_count": null,
   "id": "ec39b117",
   "metadata": {
    "ExecuteTime": {
     "start_time": "2023-04-09T14:53:01.133Z"
    }
   },
   "outputs": [],
   "source": [
    "phrases.function"
   ]
  },
  {
   "cell_type": "code",
   "execution_count": null,
   "id": "ae806a01",
   "metadata": {
    "ExecuteTime": {
     "start_time": "2023-04-09T14:53:01.134Z"
    }
   },
   "outputs": [],
   "source": [
    "def verse_lex(section):\n",
    "    verse = (T.nodeFromSection(section))\n",
    "    return [F.lex.v(w) for w in L.d(verse, \"word\")]"
   ]
  },
  {
   "cell_type": "code",
   "execution_count": null,
   "id": "6e9bb349",
   "metadata": {
    "ExecuteTime": {
     "start_time": "2023-04-09T14:53:01.136Z"
    }
   },
   "outputs": [],
   "source": [
    "verse_lex((\"Genesis\", 12, 6))"
   ]
  },
  {
   "cell_type": "code",
   "execution_count": null,
   "id": "bff84877",
   "metadata": {
    "ExecuteTime": {
     "start_time": "2023-04-09T14:53:01.137Z"
    }
   },
   "outputs": [],
   "source": [
    "A.indent(reset=True)\n",
    "A.info(\"Counting nodes ...\")\n",
    "\n",
    "i = 0\n",
    "for n in N.walk():\n",
    "    i += 1\n",
    "\n",
    "A.info(\"{} nodes\".format(i))"
   ]
  },
  {
   "cell_type": "code",
   "execution_count": null,
   "id": "eecf3fc1",
   "metadata": {
    "ExecuteTime": {
     "start_time": "2023-04-09T14:53:01.138Z"
    }
   },
   "outputs": [],
   "source": [
    "F.otype.slotType"
   ]
  },
  {
   "cell_type": "code",
   "execution_count": null,
   "id": "f667999a",
   "metadata": {
    "ExecuteTime": {
     "start_time": "2023-04-09T14:53:01.138Z"
    }
   },
   "outputs": [],
   "source": [
    "A.indent(reset=True)\n",
    "A.info(\"counting objects ...\")\n",
    "\n",
    "for otype in F.otype.all:\n",
    "    i = 0\n",
    "\n",
    "    A.indent(level=1, reset=True)\n",
    "\n",
    "    for n in F.otype.s(otype):\n",
    "        i += 1\n",
    "\n",
    "    A.info(\"{:>7} {}s\".format(i, otype))\n",
    "\n",
    "A.indent(level=0)\n",
    "A.info(\"Done\")"
   ]
  },
  {
   "cell_type": "code",
   "execution_count": null,
   "id": "acb62d8c",
   "metadata": {
    "ExecuteTime": {
     "start_time": "2023-04-09T14:53:01.139Z"
    }
   },
   "outputs": [],
   "source": [
    "verbs = collections.Counter()\n",
    "A.indent(reset=True)\n",
    "A.info(\"Collecting data\")\n",
    "\n",
    "lines = []\n",
    "n = 0\n",
    "for w in N.walk():\n",
    "    # for w in F.otype.s(\"lex\"):\n",
    "    if F.lex.v(w) == \"BW>[\" and F.sp.v(w) == \"verb\" and F.otype.v(w) == \"word\":\n",
    "        n += 1\n",
    "        if n <= 3:\n",
    "            continue\n",
    "        section = T.sectionFromNode(w)\n",
    "        lines.append(\n",
    "            {\n",
    "                \"node\": w,\n",
    "                \"tense\": F.vt.v(w),\n",
    "                \"stem\": F.st.v(w),\n",
    "                \"book\": section[0],\n",
    "                \"chapter\": section[1],\n",
    "                \"verse\": section[2],\n",
    "            }\n",
    "        )\n",
    "        verse = L.u(w, \"verse\")\n",
    "        print(\"verse\", verse, T.text(verse))\n",
    "        \n",
    "        clause = L.u(w, \"clause\")[0]\n",
    "        print(\"clause\", clause, T.text(clause))\n",
    "        sentence = L.u(w, \"sentence\")\n",
    "        print(\"sentence\", sentence, T.text(sentence))\n",
    "\n",
    "        clause_phrases = L.d(clause, \"phrase\")\n",
    "        print(\"clause_phrases\", clause_phrases)\n",
    "        \n",
    "        subject = None\n",
    "        for phrase in clause_phrases:\n",
    "            if F.function.v(phrase) == \"Subj\":\n",
    "                subject = phrase\n",
    "                break\n",
    "                \n",
    "        print(\"subject\", subject, T.text(subject))\n",
    "        \n",
    "        cmpls = [phrase for phrase in clause_phrases if F.function.v(phrase) == \"Cmpl\"]\n",
    "        \n",
    "        print(\"Complement\", cmpls, [T.text(cmpl) for cmpl in cmpls])\n",
    " \n",
    "            \n",
    "        for word in clause_words:\n",
    "            print(F.sp.v(word))\n",
    "        # L.d(clause, sp=\"verb\")\n",
    "        # print(\"subject\", subject, T.text(subject))\n",
    "        break\n",
    "        # print(T.sectionFromNode(w))\n",
    "        # print(\"book\", F.book.v(w))\n",
    "        # print(F.lex_utf8.v(w))\n",
    "        # print(F.vt.v(w))\n",
    "        # print(F.vs.v(w))\n",
    "\n",
    "A.info(\"Done\")"
   ]
  },
  {
   "cell_type": "code",
   "execution_count": null,
   "id": "5407372f",
   "metadata": {
    "ExecuteTime": {
     "start_time": "2023-04-09T14:53:01.140Z"
    }
   },
   "outputs": [],
   "source": [
    "F.lex"
   ]
  },
  {
   "cell_type": "code",
   "execution_count": null,
   "id": "adf730fc",
   "metadata": {
    "ExecuteTime": {
     "start_time": "2023-04-09T14:53:01.141Z"
    }
   },
   "outputs": [],
   "source": [
    "import pandas as pd"
   ]
  },
  {
   "cell_type": "code",
   "execution_count": null,
   "id": "5b4aca82",
   "metadata": {
    "ExecuteTime": {
     "start_time": "2023-04-09T14:53:01.142Z"
    }
   },
   "outputs": [],
   "source": [
    "df = pd.DataFrame(lines)\n",
    "df"
   ]
  },
  {
   "cell_type": "code",
   "execution_count": null,
   "id": "cb76c3b9",
   "metadata": {
    "ExecuteTime": {
     "start_time": "2023-04-09T14:53:01.143Z"
    }
   },
   "outputs": [],
   "source": [
    "df.to_csv(\"BO.csv\", index=False)"
   ]
  },
  {
   "cell_type": "code",
   "execution_count": null,
   "id": "8025d834",
   "metadata": {
    "ExecuteTime": {
     "start_time": "2023-04-09T14:53:01.144Z"
    }
   },
   "outputs": [],
   "source": [
    "Fall()"
   ]
  },
  {
   "cell_type": "code",
   "execution_count": null,
   "id": "977fb7f7",
   "metadata": {
    "ExecuteTime": {
     "start_time": "2023-04-09T14:53:01.145Z"
    }
   },
   "outputs": [],
   "source": [
    "for name in Fall():\n",
    "    print(name, getattr(F, name).v(1033))"
   ]
  },
  {
   "cell_type": "code",
   "execution_count": null,
   "id": "abfe0992",
   "metadata": {},
   "outputs": [],
   "source": []
  },
  {
   "cell_type": "code",
   "execution_count": null,
   "id": "86b1358e",
   "metadata": {
    "ExecuteTime": {
     "start_time": "2023-04-09T14:53:01.146Z"
    }
   },
   "outputs": [],
   "source": [
    "F.st.v(935)"
   ]
  },
  {
   "cell_type": "code",
   "execution_count": null,
   "id": "2a2cf48b",
   "metadata": {
    "ExecuteTime": {
     "start_time": "2023-04-09T14:53:01.147Z"
    }
   },
   "outputs": [],
   "source": [
    "getattr(F, \"st\").v(935)"
   ]
  },
  {
   "cell_type": "code",
   "execution_count": null,
   "id": "a401ebb8",
   "metadata": {
    "ExecuteTime": {
     "start_time": "2023-04-09T14:53:01.148Z"
    }
   },
   "outputs": [],
   "source": [
    "for name in Fall():\n",
    "    print(name, getattr(F, name).v(1437760))\n",
    "    print(name, getattr(F, name).v(935))"
   ]
  }
 ],
 "metadata": {
  "kernelspec": {
   "display_name": "Python 3 (ipykernel)",
   "language": "python",
   "name": "python3"
  },
  "language_info": {
   "codemirror_mode": {
    "name": "ipython",
    "version": 3
   },
   "file_extension": ".py",
   "mimetype": "text/x-python",
   "name": "python",
   "nbconvert_exporter": "python",
   "pygments_lexer": "ipython3",
   "version": "3.9.16"
  }
 },
 "nbformat": 4,
 "nbformat_minor": 5
}
